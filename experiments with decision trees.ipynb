{
 "cells": [
  {
   "cell_type": "code",
   "execution_count": 2,
   "metadata": {},
   "outputs": [],
   "source": [
    "import numpy as np\n",
    "import pandas as pd\n",
    "from sklearn.tree import DecisionTreeRegressor, plot_tree\n",
    "from sklearn.model_selection import train_test_split, TimeSeriesSplit, cross_val_score\n",
    "from sklearn.metrics import r2_score, make_scorer\n",
    "import matplotlib.pyplot as plt\n",
    "from sklearn.model_selection import RandomizedSearchCV"
   ]
  },
  {
   "cell_type": "markdown",
   "metadata": {},
   "source": [
    "## Number of infected dataset"
   ]
  },
  {
   "cell_type": "code",
   "execution_count": 3,
   "metadata": {},
   "outputs": [],
   "source": [
    "cc_data = pd.read_csv('cleaned_confirmed_cases.csv')\n",
    "cc_data = pd.concat([cc_data,pd.get_dummies(cc_data['Country_Region'], prefix='country')],axis=1)\n",
    "diff_split_cc_data = cc_data.copy()\n",
    "# dropping first infection along with country and date\n",
    "cc_data.drop(['Country_Region', 'Date', 'first_infection'],axis=1, inplace=True)\n",
    "feature_cols = list(cc_data)\n",
    "feature_cols.remove('TargetValue')\n",
    "mask_test = (diff_split_cc_data['Date'] >= '2020-05-20')\n",
    "mask_train = (diff_split_cc_data['Date'] < '2020-05-20')"
   ]
  },
  {
   "cell_type": "code",
   "execution_count": 4,
   "metadata": {},
   "outputs": [],
   "source": [
    "test_cc_df = diff_split_cc_data.loc[mask_test]\n",
    "train_cc_df = diff_split_cc_data.loc[mask_train]\n",
    "y_time_split_cc = train_cc_df['TargetValue']\n",
    "x_time_split_cc = train_cc_df[feature_cols] \n",
    "\n",
    "y_test_time_split_cc = test_cc_df['TargetValue']\n",
    "x_test_time_split_cc = test_cc_df[feature_cols]"
   ]
  },
  {
   "cell_type": "code",
   "execution_count": 134,
   "metadata": {},
   "outputs": [
    {
     "data": {
      "text/plain": [
       "DecisionTreeRegressor(criterion='mse', max_depth=None, max_features=None,\n",
       "                      max_leaf_nodes=None, min_impurity_decrease=0.0,\n",
       "                      min_impurity_split=None, min_samples_leaf=1,\n",
       "                      min_samples_split=2, min_weight_fraction_leaf=0.0,\n",
       "                      presort=False, random_state=None, splitter='best')"
      ]
     },
     "execution_count": 134,
     "metadata": {},
     "output_type": "execute_result"
    }
   ],
   "source": [
    "decision_tree = DecisionTreeRegressor()\n",
    "decision_tree.fit(x_time_split_cc, y_time_split_cc)"
   ]
  },
  {
   "cell_type": "code",
   "execution_count": 135,
   "metadata": {},
   "outputs": [
    {
     "name": "stdout",
     "output_type": "stream",
     "text": [
      "0.9078375569097067\n"
     ]
    }
   ],
   "source": [
    "print(decision_tree.score(x_test_time_split_cc, y_test_time_split_cc))"
   ]
  },
  {
   "cell_type": "code",
   "execution_count": 8,
   "metadata": {},
   "outputs": [
    {
     "data": {
      "image/png": "[encoded data removed]",
      "text/plain": [
       "<Figure size 432x288 with 1 Axes>"
      ]
     },
     "metadata": {
      "needs_background": "light"
     },
     "output_type": "display_data"
    }
   ],
   "source": [
    "feature_imp = decision_tree.feature_importances_[:10]\n",
    "sorted_idx = np.argsort(feature_imp)\n",
    "pos = np.arange(sorted_idx.shape[0])+.5\n",
    "\n",
    "plt.barh(pos, feature_imp[sorted_idx], align='center')\n",
    "plt.yticks(pos, np.array(list(x_time_split_cc))[sorted_idx])\n",
    "plt.show()"
   ]
  },
  {
   "cell_type": "code",
   "execution_count": 143,
   "metadata": {},
   "outputs": [],
   "source": [
    "params = {\n",
    "    'presort':[True, False],\n",
    "    'criterion': ['friedman_mse', 'mse'],\n",
    "    'min_impurity_decrease': list(np.logspace(np.log10(0.18), np.log10(0.5), base = 10, num = 800))#[1e-7, 1e-3, 1e-1, 0.0, 0.002, 0.03]\n",
    "}"
   ]
  },
  {
   "cell_type": "code",
   "execution_count": 144,
   "metadata": {},
   "outputs": [
    {
     "name": "stderr",
     "output_type": "stream",
     "text": [
      "c:\\users\\user\\appdata\\local\\programs\\python\\python36\\lib\\site-packages\\sklearn\\model_selection\\_split.py:1978: FutureWarning: The default value of cv will change from 3 to 5 in version 0.22. Specify it explicitly to silence this warning.\n",
      "  warnings.warn(CV_WARNING, FutureWarning)\n"
     ]
    }
   ],
   "source": [
    "rand_search = RandomizedSearchCV(decision_tree, params, n_iter = 200)\n",
    "search = rand_search.fit(x_time_split_cc,y_time_split_cc)"
   ]
  },
  {
   "cell_type": "code",
   "execution_count": 146,
   "metadata": {
    "scrolled": true
   },
   "outputs": [
    {
     "name": "stdout",
     "output_type": "stream",
     "text": [
      "0.90708379203185\n"
     ]
    }
   ],
   "source": [
    "best_params= search.best_params_\n",
    "optDT =  DecisionTreeRegressor(criterion=best_params['criterion'], presort=best_params['presort'],\n",
    "                       min_impurity_decrease=best_params['min_impurity_decrease'])\n",
    "optDT.fit(x_time_split_cc,y_time_split_cc)\n",
    "print(optDT.score(x_test_time_split_cc, y_test_time_split_cc))"
   ]
  },
  {
   "cell_type": "code",
   "execution_count": 147,
   "metadata": {},
   "outputs": [
    {
     "data": {
      "text/plain": [
       "{'presort': True,\n",
       " 'min_impurity_decrease': 0.23067674404362448,\n",
       " 'criterion': 'friedman_mse'}"
      ]
     },
     "execution_count": 147,
     "metadata": {},
     "output_type": "execute_result"
    }
   ],
   "source": [
    "best_params"
   ]
  },
  {
   "cell_type": "markdown",
   "metadata": {},
   "source": [
    "## Fatalities dataset"
   ]
  },
  {
   "cell_type": "code",
   "execution_count": 7,
   "metadata": {},
   "outputs": [],
   "source": [
    "f_data = pd.read_csv('cleaned_fatalities.csv')\n",
    "f_data = pd.concat([f_data,pd.get_dummies(f_data['Country_Region'], prefix='country')],axis=1)\n",
    "diff_split_f_data = f_data.copy()\n",
    "\n",
    "# dropping first infection along with country and date\n",
    "f_data.drop(['Country_Region', 'Date', 'first_infection'],axis=1, inplace=True)\n",
    "feature_cols = list(f_data)\n",
    "feature_cols.remove('TargetValue')\n",
    "\n",
    "\n",
    "mask_f_test = (diff_split_f_data['Date'] >= '2020-05-20')\n",
    "mask_f_train = (diff_split_f_data['Date'] < '2020-05-20')\n",
    "test_f_df = diff_split_f_data.loc[mask_f_test]\n",
    "train_f_df = diff_split_f_data.loc[mask_f_train]\n",
    "y_time_split_f = train_f_df['TargetValue']\n",
    "x_time_split_f = train_f_df[feature_cols] \n",
    "y_test_time_split_f = test_f_df['TargetValue']\n",
    "x_test_time_split_f = test_f_df[feature_cols]"
   ]
  },
  {
   "cell_type": "code",
   "execution_count": 9,
   "metadata": {},
   "outputs": [
    {
     "data": {
      "text/plain": [
       "DecisionTreeRegressor(criterion='mse', max_depth=None, max_features=None,\n",
       "                      max_leaf_nodes=None, min_impurity_decrease=0.0,\n",
       "                      min_impurity_split=None, min_samples_leaf=1,\n",
       "                      min_samples_split=2, min_weight_fraction_leaf=0.0,\n",
       "                      presort=False, random_state=None, splitter='best')"
      ]
     },
     "execution_count": 9,
     "metadata": {},
     "output_type": "execute_result"
    }
   ],
   "source": [
    "decision_tree_f = DecisionTreeRegressor()\n",
    "decision_tree_f.fit(x_time_split_f,y_time_split_f)"
   ]
  },
  {
   "cell_type": "code",
   "execution_count": 11,
   "metadata": {},
   "outputs": [
    {
     "name": "stdout",
     "output_type": "stream",
     "text": [
      "0.7744763452914183\n"
     ]
    }
   ],
   "source": [
    "print(decision_tree_f.score(x_test_time_split_f, y_test_time_split_f))"
   ]
  },
  {
   "cell_type": "code",
   "execution_count": 25,
   "metadata": {},
   "outputs": [
    {
     "name": "stdout",
     "output_type": "stream",
     "text": [
      "0.7748385619033334\n"
     ]
    }
   ],
   "source": [
    "optDT_f =  DecisionTreeRegressor(criterion='friedman_mse', presort=False,\n",
    "                       min_impurity_decrease=0.25)\n",
    "optDT_f.fit(x_time_split_f,y_time_split_f)\n",
    "print(optDT_f.score(x_test_time_split_f, y_test_time_split_f))"
   ]
  },
  {
   "cell_type": "code",
   "execution_count": 58,
   "metadata": {},
   "outputs": [],
   "source": [
    "params_f = {\n",
    "    'presort':[True, False],\n",
    "    'criterion': ['friedman_mse', 'mse'],\n",
    "    'min_impurity_decrease': list(np.logspace(np.log10(0.08), np.log10(0.5), base = 10, num = 800)),\n",
    "    'min_samples_leaf':list(range(2,3))\n",
    "}"
   ]
  },
  {
   "cell_type": "code",
   "execution_count": 59,
   "metadata": {},
   "outputs": [
    {
     "name": "stderr",
     "output_type": "stream",
     "text": [
      "c:\\users\\user\\appdata\\local\\programs\\python\\python36\\lib\\site-packages\\sklearn\\model_selection\\_split.py:1978: FutureWarning: The default value of cv will change from 3 to 5 in version 0.22. Specify it explicitly to silence this warning.\n",
      "  warnings.warn(CV_WARNING, FutureWarning)\n"
     ]
    }
   ],
   "source": [
    "rand_search_f = RandomizedSearchCV(decision_tree_f, params_f, n_iter = 600)\n",
    "search_f = rand_search_f.fit(x_time_split_f,y_time_split_f)"
   ]
  },
  {
   "cell_type": "code",
   "execution_count": 60,
   "metadata": {},
   "outputs": [
    {
     "name": "stdout",
     "output_type": "stream",
     "text": [
      "0.788261290343343\n"
     ]
    }
   ],
   "source": [
    "best_params_f= search_f.best_params_\n",
    "optDT_f =  DecisionTreeRegressor(criterion=best_params_f['criterion'], presort=best_params_f['presort'],\n",
    "                       min_impurity_decrease=best_params_f['min_impurity_decrease'],\n",
    "                       min_samples_leaf=2)\n",
    "optDT_f.fit(x_time_split_f,y_time_split_f)\n",
    "print(optDT_f.score(x_test_time_split_f, y_test_time_split_f))"
   ]
  },
  {
   "cell_type": "code",
   "execution_count": 61,
   "metadata": {},
   "outputs": [
    {
     "data": {
      "text/plain": [
       "{'presort': True,\n",
       " 'min_samples_leaf': 2,\n",
       " 'min_impurity_decrease': 0.2818033938694098,\n",
       " 'criterion': 'friedman_mse'}"
      ]
     },
     "execution_count": 61,
     "metadata": {},
     "output_type": "execute_result"
    }
   ],
   "source": [
    "best_params_f"
   ]
  }
 ],
 "metadata": {
  "kernelspec": {
   "display_name": "Python 3",
   "language": "python",
   "name": "python3"
  },
  "language_info": {
   "codemirror_mode": {
    "name": "ipython",
    "version": 3
   },
   "file_extension": ".py",
   "mimetype": "text/x-python",
   "name": "python",
   "nbconvert_exporter": "python",
   "pygments_lexer": "ipython3",
   "version": "3.6.8"
  },
  "toc": {
   "base_numbering": 1,
   "nav_menu": {},
   "number_sections": true,
   "sideBar": true,
   "skip_h1_title": false,
   "title_cell": "Table of Contents",
   "title_sidebar": "Contents",
   "toc_cell": false,
   "toc_position": {},
   "toc_section_display": true,
   "toc_window_display": false
  }
 },
 "nbformat": 4,
 "nbformat_minor": 2
}
