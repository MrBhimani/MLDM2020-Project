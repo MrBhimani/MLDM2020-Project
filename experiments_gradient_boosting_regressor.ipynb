{
 "cells": [
  {
   "cell_type": "code",
   "execution_count": 1,
   "metadata": {},
   "outputs": [],
   "source": [
    "import numpy as np\n",
    "import pandas as pd\n",
    "from sklearn.ensemble import GradientBoostingRegressor\n",
    "from sklearn.model_selection import train_test_split, TimeSeriesSplit, cross_val_score\n",
    "from sklearn.metrics import r2_score, make_scorer\n",
    "import matplotlib.pyplot as plt"
   ]
  },
  {
   "cell_type": "markdown",
   "metadata": {},
   "source": [
    "# Number of infected dataset"
   ]
  },
  {
   "cell_type": "code",
   "execution_count": 2,
   "metadata": {},
   "outputs": [],
   "source": [
    "cc_data = pd.read_csv('cleaned_confirmed_cases.csv')\n",
    "cc_data = pd.concat([cc_data,pd.get_dummies(cc_data['Country_Region'], prefix='country')],axis=1)\n",
    "diff_split_cc_data = cc_data.copy()\n",
    "# dropping first infection along with country and date\n",
    "cc_data.drop(['Country_Region', 'Date', 'first_infection'],axis=1, inplace=True)\n",
    "feature_cols = list(cc_data)\n",
    "feature_cols.remove('TargetValue')\n",
    "mask_test = (diff_split_cc_data['Date'] >= '2020-05-20')\n",
    "mask_train = (diff_split_cc_data['Date'] < '2020-05-20')"
   ]
  },
  {
   "cell_type": "code",
   "execution_count": 3,
   "metadata": {},
   "outputs": [],
   "source": [
    "test_cc_df = diff_split_cc_data.loc[mask_test]\n",
    "train_cc_df = diff_split_cc_data.loc[mask_train]\n",
    "y_time_split_cc = train_cc_df['TargetValue']\n",
    "x_time_split_cc = train_cc_df[feature_cols] \n",
    "\n",
    "y_test_time_split_cc = test_cc_df['TargetValue']\n",
    "x_test_time_split_cc = test_cc_df[feature_cols]"
   ]
  },
  {
   "cell_type": "code",
   "execution_count": 4,
   "metadata": {},
   "outputs": [
    {
     "data": {
      "text/plain": [
       "GradientBoostingRegressor(alpha=0.9, criterion='friedman_mse', init=None,\n",
       "                          learning_rate=0.1, loss='ls', max_depth=3,\n",
       "                          max_features=None, max_leaf_nodes=None,\n",
       "                          min_impurity_decrease=0.0, min_impurity_split=None,\n",
       "                          min_samples_leaf=1, min_samples_split=2,\n",
       "                          min_weight_fraction_leaf=0.0, n_estimators=100,\n",
       "                          n_iter_no_change=None, presort='auto',\n",
       "                          random_state=None, subsample=1.0, tol=0.0001,\n",
       "                          validation_fraction=0.1, verbose=0, warm_start=False)"
      ]
     },
     "execution_count": 4,
     "metadata": {},
     "output_type": "execute_result"
    }
   ],
   "source": [
    "gradient_boosting_regr = GradientBoostingRegressor()\n",
    "gradient_boosting_regr.fit(x_time_split_cc,y_time_split_cc)"
   ]
  },
  {
   "cell_type": "code",
   "execution_count": 5,
   "metadata": {
    "scrolled": true
   },
   "outputs": [
    {
     "name": "stdout",
     "output_type": "stream",
     "text": [
      "0.797985163700536\n"
     ]
    }
   ],
   "source": [
    "y_pred_cc = gradient_boosting_regr.predict(x_test_time_split_cc)\n",
    "print(gradient_boosting_regr.score(x_test_time_split_cc, y_test_time_split_cc))"
   ]
  },
  {
   "cell_type": "code",
   "execution_count": 21,
   "metadata": {},
   "outputs": [
    {
     "data": {
      "image/png": "[encoded data removed]",
      "text/plain": [
       "<Figure size 432x288 with 1 Axes>"
      ]
     },
     "metadata": {
      "needs_background": "light"
     },
     "output_type": "display_data"
    }
   ],
   "source": [
    "feature_imp = gradient_boosting_regr.feature_importances_[:10]\n",
    "sorted_idx = np.argsort(feature_imp)\n",
    "pos = np.arange(sorted_idx.shape[0])+.5\n",
    "\n",
    "plt.barh(pos, feature_imp[sorted_idx], align='center')\n",
    "plt.yticks(pos, np.array(list(x_time_split_cc))[sorted_idx])\n",
    "plt.show()"
   ]
  },
  {
   "cell_type": "markdown",
   "metadata": {},
   "source": [
    "## Optimizing hyperparams"
   ]
  },
  {
   "cell_type": "code",
   "execution_count": 43,
   "metadata": {},
   "outputs": [],
   "source": [
    "from sklearn.model_selection import RandomizedSearchCV"
   ]
  },
  {
   "cell_type": "code",
   "execution_count": 44,
   "metadata": {},
   "outputs": [],
   "source": [
    "params = { 'learning_rate': list(np.logspace(np.log10(0.08), np.log10(0.2), base = 10, num = 600)),\n",
    "             'max_depth': list(range(2, 5)),\n",
    "             'min_samples_leaf':list(range(1,3)),\n",
    "            'n_estimators':list(range(1,40))}"
   ]
  },
  {
   "cell_type": "code",
   "execution_count": 58,
   "metadata": {},
   "outputs": [],
   "source": [
    "params_opt = { 'learning_rate': list(np.logspace(np.log10(0.08), np.log10(0.2), base = 10, num = 600)),\n",
    "             'max_depth': [3, 4, 5],\n",
    "             'min_samples_leaf':list(range(1,4))}"
   ]
  },
  {
   "cell_type": "code",
   "execution_count": 59,
   "metadata": {},
   "outputs": [
    {
     "name": "stderr",
     "output_type": "stream",
     "text": [
      "c:\\users\\user\\appdata\\local\\programs\\python\\python36\\lib\\site-packages\\sklearn\\model_selection\\_split.py:1978: FutureWarning: The default value of cv will change from 3 to 5 in version 0.22. Specify it explicitly to silence this warning.\n",
      "  warnings.warn(CV_WARNING, FutureWarning)\n"
     ]
    }
   ],
   "source": [
    "rand_search = RandomizedSearchCV(gradient_boosting_regr, params_opt, scoring= 'r2', n_iter = 100)\n",
    "search = rand_search.fit(x_time_split_cc,y_time_split_cc)"
   ]
  },
  {
   "cell_type": "code",
   "execution_count": 73,
   "metadata": {},
   "outputs": [
    {
     "name": "stdout",
     "output_type": "stream",
     "text": [
      "0.8435165698845433\n"
     ]
    }
   ],
   "source": [
    "best_params= search.best_params_\n",
    "optGBR = GradientBoostingRegressor(learning_rate= best_params['learning_rate'], min_samples_leaf=best_params['min_samples_leaf'],\n",
    "                      max_depth=best_params['max_depth'])\n",
    "optGBR.fit(x_time_split_cc,y_time_split_cc)\n",
    "y_pred_cc = optGBR.predict(x_test_time_split_cc)\n",
    "print(optGBR.score(x_test_time_split_cc, y_test_time_split_cc))"
   ]
  },
  {
   "cell_type": "code",
   "execution_count": 62,
   "metadata": {},
   "outputs": [
    {
     "data": {
      "text/plain": [
       "{'min_samples_leaf': 1, 'max_depth': 3, 'learning_rate': 0.16980307604394845}"
      ]
     },
     "execution_count": 62,
     "metadata": {},
     "output_type": "execute_result"
    }
   ],
   "source": [
    "best_params #0.8424614151546296"
   ]
  },
  {
   "cell_type": "code",
   "execution_count": 53,
   "metadata": {},
   "outputs": [
    {
     "data": {
      "text/plain": [
       "{'n_estimators': 26,\n",
       " 'min_samples_leaf': 1,\n",
       " 'max_depth': 4,\n",
       " 'learning_rate': 0.08110900098081626}"
      ]
     },
     "execution_count": 53,
     "metadata": {},
     "output_type": "execute_result"
    }
   ],
   "source": [
    "best_params #0.8167473387570496"
   ]
  },
  {
   "cell_type": "code",
   "execution_count": 47,
   "metadata": {},
   "outputs": [
    {
     "data": {
      "text/plain": [
       "{'n_estimators': 21,\n",
       " 'min_samples_leaf': 1,\n",
       " 'max_depth': 4,\n",
       " 'learning_rate': 0.11355963299468902}"
      ]
     },
     "execution_count": 47,
     "metadata": {},
     "output_type": "execute_result"
    }
   ],
   "source": [
    "best_params #0.8468788650739416"
   ]
  },
  {
   "cell_type": "code",
   "execution_count": 33,
   "metadata": {},
   "outputs": [
    {
     "data": {
      "text/plain": [
       "{'n_estimators': 22,\n",
       " 'min_samples_leaf': 2,\n",
       " 'max_depth': 4,\n",
       " 'learning_rate': 0.08859518365155593}"
      ]
     },
     "execution_count": 33,
     "metadata": {},
     "output_type": "execute_result"
    }
   ],
   "source": [
    "best_params #0.8321867359659648"
   ]
  },
  {
   "cell_type": "code",
   "execution_count": 42,
   "metadata": {},
   "outputs": [
    {
     "data": {
      "text/plain": [
       "{'n_estimators': 15,\n",
       " 'min_samples_leaf': 1,\n",
       " 'max_depth': 4,\n",
       " 'learning_rate': 0.1459405019886716}"
      ]
     },
     "execution_count": 42,
     "metadata": {},
     "output_type": "execute_result"
    }
   ],
   "source": [
    "best_params #0.8433987577464361"
   ]
  },
  {
   "cell_type": "code",
   "execution_count": 75,
   "metadata": {},
   "outputs": [
    {
     "data": {
      "image/png": "[encoded data removed]",
      "text/plain": [
       "<Figure size 432x288 with 1 Axes>"
      ]
     },
     "metadata": {
      "needs_background": "light"
     },
     "output_type": "display_data"
    }
   ],
   "source": [
    "feature_imp = optGBR.feature_importances_[:10]\n",
    "sorted_idx = np.argsort(feature_imp)\n",
    "pos = np.arange(sorted_idx.shape[0])+.5\n",
    "\n",
    "plt.barh(pos, feature_imp[sorted_idx], align='center')\n",
    "plt.yticks(pos, np.array(list(x_time_split_cc))[sorted_idx])\n",
    "plt.show()"
   ]
  },
  {
   "cell_type": "markdown",
   "metadata": {},
   "source": [
    "# Fatalities dataset"
   ]
  },
  {
   "cell_type": "code",
   "execution_count": 63,
   "metadata": {},
   "outputs": [],
   "source": [
    "f_data = pd.read_csv('cleaned_fatalities.csv')\n",
    "mask_f_test = (f_data['Date'] >= '2020-05-20')\n",
    "mask_f_train = (f_data['Date'] < '2020-05-20')\n",
    "test_f_df = diff_split_cc_data.loc[mask_f_test]\n",
    "train_f_df = diff_split_cc_data.loc[mask_f_train]\n",
    "y_time_split_f = train_f_df['TargetValue']\n",
    "x_time_split_f = train_f_df[feature_cols] \n",
    "y_test_time_split_f = test_f_df['TargetValue']\n",
    "x_test_time_split_f = test_f_df[feature_cols]"
   ]
  },
  {
   "cell_type": "code",
   "execution_count": 64,
   "metadata": {},
   "outputs": [
    {
     "data": {
      "text/plain": [
       "GradientBoostingRegressor(alpha=0.9, criterion='friedman_mse', init=None,\n",
       "                          learning_rate=0.1, loss='ls', max_depth=3,\n",
       "                          max_features=None, max_leaf_nodes=None,\n",
       "                          min_impurity_decrease=0.0, min_impurity_split=None,\n",
       "                          min_samples_leaf=1, min_samples_split=2,\n",
       "                          min_weight_fraction_leaf=0.0, n_estimators=100,\n",
       "                          n_iter_no_change=None, presort='auto',\n",
       "                          random_state=None, subsample=1.0, tol=0.0001,\n",
       "                          validation_fraction=0.1, verbose=0, warm_start=False)"
      ]
     },
     "execution_count": 64,
     "metadata": {},
     "output_type": "execute_result"
    }
   ],
   "source": [
    "gradient_boosting_regr_f = GradientBoostingRegressor()\n",
    "gradient_boosting_regr_f.fit(x_time_split_f,y_time_split_f)"
   ]
  },
  {
   "cell_type": "code",
   "execution_count": 65,
   "metadata": {},
   "outputs": [
    {
     "name": "stdout",
     "output_type": "stream",
     "text": [
      "0.797985163700536\n"
     ]
    }
   ],
   "source": [
    "y_pred_cc = gradient_boosting_regr.predict(x_test_time_split_f)\n",
    "print(gradient_boosting_regr.score(x_test_time_split_f, y_test_time_split_f))"
   ]
  },
  {
   "cell_type": "code",
   "execution_count": 66,
   "metadata": {},
   "outputs": [],
   "source": [
    "params_opt = { 'learning_rate': list(np.logspace(np.log10(0.08), np.log10(0.2), base = 10, num = 600)),\n",
    "             'max_depth': [3, 4, 5],\n",
    "             'min_samples_leaf':list(range(1,4))}"
   ]
  },
  {
   "cell_type": "code",
   "execution_count": 68,
   "metadata": {},
   "outputs": [
    {
     "name": "stderr",
     "output_type": "stream",
     "text": [
      "c:\\users\\user\\appdata\\local\\programs\\python\\python36\\lib\\site-packages\\sklearn\\model_selection\\_split.py:1978: FutureWarning: The default value of cv will change from 3 to 5 in version 0.22. Specify it explicitly to silence this warning.\n",
      "  warnings.warn(CV_WARNING, FutureWarning)\n"
     ]
    }
   ],
   "source": [
    "rand_search_f = RandomizedSearchCV(gradient_boosting_regr, params_opt, scoring= 'r2', n_iter = 100)\n",
    "search_f = rand_search_f.fit(x_time_split_f,y_time_split_f)"
   ]
  },
  {
   "cell_type": "code",
   "execution_count": 70,
   "metadata": {},
   "outputs": [
    {
     "name": "stdout",
     "output_type": "stream",
     "text": [
      "0.8429173721385695\n"
     ]
    }
   ],
   "source": [
    "best_params= search.best_params_\n",
    "optGBR = GradientBoostingRegressor(learning_rate= best_params['learning_rate'], min_samples_leaf=best_params['min_samples_leaf'],\n",
    "                      max_depth=best_params['max_depth'])\n",
    "optGBR.fit(x_time_split_f,y_time_split_f)\n",
    "y_pred_cc = optGBR.predict(x_test_time_split_f)\n",
    "print(optGBR.score(x_test_time_split_f, y_test_time_split_f))"
   ]
  },
  {
   "cell_type": "code",
   "execution_count": 71,
   "metadata": {},
   "outputs": [
    {
     "data": {
      "text/plain": [
       "{'min_samples_leaf': 1, 'max_depth': 3, 'learning_rate': 0.16980307604394845}"
      ]
     },
     "execution_count": 71,
     "metadata": {},
     "output_type": "execute_result"
    }
   ],
   "source": [
    "best_params"
   ]
  },
  {
   "cell_type": "code",
   "execution_count": 72,
   "metadata": {},
   "outputs": [
    {
     "data": {
      "image/png": "[encoded data removed]",
      "text/plain": [
       "<Figure size 432x288 with 1 Axes>"
      ]
     },
     "metadata": {
      "needs_background": "light"
     },
     "output_type": "display_data"
    }
   ],
   "source": [
    "feature_imp = optGBR.feature_importances_[:10]\n",
    "sorted_idx = np.argsort(feature_imp)\n",
    "pos = np.arange(sorted_idx.shape[0])+.5\n",
    "\n",
    "plt.barh(pos, feature_imp[sorted_idx], align='center')\n",
    "plt.yticks(pos, np.array(list(x_time_split_f))[sorted_idx])\n",
    "plt.show()"
   ]
  }
 ],
 "metadata": {
  "kernelspec": {
   "display_name": "Python 3",
   "language": "python",
   "name": "python3"
  },
  "language_info": {
   "codemirror_mode": {
    "name": "ipython",
    "version": 3
   },
   "file_extension": ".py",
   "mimetype": "text/x-python",
   "name": "python",
   "nbconvert_exporter": "python",
   "pygments_lexer": "ipython3",
   "version": "3.8.2"
  },
  "toc": {
   "base_numbering": 1,
   "nav_menu": {},
   "number_sections": true,
   "sideBar": true,
   "skip_h1_title": false,
   "title_cell": "Table of Contents",
   "title_sidebar": "Contents",
   "toc_cell": false,
   "toc_position": {},
   "toc_section_display": true,
   "toc_window_display": false
  }
 },
 "nbformat": 4,
 "nbformat_minor": 2
}
