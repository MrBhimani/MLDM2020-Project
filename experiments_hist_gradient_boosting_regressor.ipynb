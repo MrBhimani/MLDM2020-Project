{
 "cells": [
  {
   "cell_type": "code",
   "execution_count": 15,
   "metadata": {},
   "outputs": [],
   "source": [
    "import pandas as pd\n",
    "import numpy as np"
   ]
  },
  {
   "cell_type": "code",
   "execution_count": 2,
   "metadata": {},
   "outputs": [],
   "source": [
    "cc_data = pd.read_csv('data/cleaned_confirmed_cases.csv')"
   ]
  },
  {
   "cell_type": "code",
   "execution_count": 3,
   "metadata": {},
   "outputs": [],
   "source": [
    "cc_data['DayOfYear'] =  pd.to_datetime(cc_data['Date']).dt.dayofyear"
   ]
  },
  {
   "cell_type": "code",
   "execution_count": 4,
   "metadata": {},
   "outputs": [],
   "source": [
    "cc_data = pd.concat([cc_data,pd.get_dummies(cc_data['Country_Region'], prefix='country')],axis=1)"
   ]
  },
  {
   "cell_type": "code",
   "execution_count": 5,
   "metadata": {},
   "outputs": [
    {
     "data": {
      "text/html": [
       "<div>\n",
       "<style scoped>\n",
       "    .dataframe tbody tr th:only-of-type {\n",
       "        vertical-align: middle;\n",
       "    }\n",
       "\n",
       "    .dataframe tbody tr th {\n",
       "        vertical-align: top;\n",
       "    }\n",
       "\n",
       "    .dataframe thead th {\n",
       "        text-align: right;\n",
       "    }\n",
       "</style>\n",
       "<table border=\"1\" class=\"dataframe\">\n",
       "  <thead>\n",
       "    <tr style=\"text-align: right;\">\n",
       "      <th></th>\n",
       "      <th>Country_Region</th>\n",
       "      <th>Population</th>\n",
       "      <th>Weight</th>\n",
       "      <th>Date</th>\n",
       "      <th>TargetValue</th>\n",
       "      <th>Med. Age</th>\n",
       "      <th>Density (P/Km²)</th>\n",
       "      <th>Urban Pop %</th>\n",
       "      <th>Week</th>\n",
       "      <th>Day</th>\n",
       "      <th>...</th>\n",
       "      <th>country_United States</th>\n",
       "      <th>country_Uruguay</th>\n",
       "      <th>country_Uzbekistan</th>\n",
       "      <th>country_Venezuela</th>\n",
       "      <th>country_Vietnam</th>\n",
       "      <th>country_West Bank and Gaza</th>\n",
       "      <th>country_Western Sahara</th>\n",
       "      <th>country_Yemen</th>\n",
       "      <th>country_Zambia</th>\n",
       "      <th>country_Zimbabwe</th>\n",
       "    </tr>\n",
       "  </thead>\n",
       "  <tbody>\n",
       "    <tr>\n",
       "      <th>0</th>\n",
       "      <td>Afghanistan</td>\n",
       "      <td>27657145</td>\n",
       "      <td>0.058359</td>\n",
       "      <td>2020-01-23</td>\n",
       "      <td>0.0</td>\n",
       "      <td>18.0</td>\n",
       "      <td>60</td>\n",
       "      <td>25.0</td>\n",
       "      <td>4</td>\n",
       "      <td>23</td>\n",
       "      <td>...</td>\n",
       "      <td>0</td>\n",
       "      <td>0</td>\n",
       "      <td>0</td>\n",
       "      <td>0</td>\n",
       "      <td>0</td>\n",
       "      <td>0</td>\n",
       "      <td>0</td>\n",
       "      <td>0</td>\n",
       "      <td>0</td>\n",
       "      <td>0</td>\n",
       "    </tr>\n",
       "    <tr>\n",
       "      <th>1</th>\n",
       "      <td>Afghanistan</td>\n",
       "      <td>27657145</td>\n",
       "      <td>0.058359</td>\n",
       "      <td>2020-01-24</td>\n",
       "      <td>0.0</td>\n",
       "      <td>18.0</td>\n",
       "      <td>60</td>\n",
       "      <td>25.0</td>\n",
       "      <td>4</td>\n",
       "      <td>24</td>\n",
       "      <td>...</td>\n",
       "      <td>0</td>\n",
       "      <td>0</td>\n",
       "      <td>0</td>\n",
       "      <td>0</td>\n",
       "      <td>0</td>\n",
       "      <td>0</td>\n",
       "      <td>0</td>\n",
       "      <td>0</td>\n",
       "      <td>0</td>\n",
       "      <td>0</td>\n",
       "    </tr>\n",
       "    <tr>\n",
       "      <th>2</th>\n",
       "      <td>Afghanistan</td>\n",
       "      <td>27657145</td>\n",
       "      <td>0.058359</td>\n",
       "      <td>2020-01-25</td>\n",
       "      <td>0.0</td>\n",
       "      <td>18.0</td>\n",
       "      <td>60</td>\n",
       "      <td>25.0</td>\n",
       "      <td>4</td>\n",
       "      <td>25</td>\n",
       "      <td>...</td>\n",
       "      <td>0</td>\n",
       "      <td>0</td>\n",
       "      <td>0</td>\n",
       "      <td>0</td>\n",
       "      <td>0</td>\n",
       "      <td>0</td>\n",
       "      <td>0</td>\n",
       "      <td>0</td>\n",
       "      <td>0</td>\n",
       "      <td>0</td>\n",
       "    </tr>\n",
       "    <tr>\n",
       "      <th>3</th>\n",
       "      <td>Afghanistan</td>\n",
       "      <td>27657145</td>\n",
       "      <td>0.058359</td>\n",
       "      <td>2020-01-26</td>\n",
       "      <td>0.0</td>\n",
       "      <td>18.0</td>\n",
       "      <td>60</td>\n",
       "      <td>25.0</td>\n",
       "      <td>4</td>\n",
       "      <td>26</td>\n",
       "      <td>...</td>\n",
       "      <td>0</td>\n",
       "      <td>0</td>\n",
       "      <td>0</td>\n",
       "      <td>0</td>\n",
       "      <td>0</td>\n",
       "      <td>0</td>\n",
       "      <td>0</td>\n",
       "      <td>0</td>\n",
       "      <td>0</td>\n",
       "      <td>0</td>\n",
       "    </tr>\n",
       "    <tr>\n",
       "      <th>4</th>\n",
       "      <td>Afghanistan</td>\n",
       "      <td>27657145</td>\n",
       "      <td>0.058359</td>\n",
       "      <td>2020-01-27</td>\n",
       "      <td>0.0</td>\n",
       "      <td>18.0</td>\n",
       "      <td>60</td>\n",
       "      <td>25.0</td>\n",
       "      <td>5</td>\n",
       "      <td>27</td>\n",
       "      <td>...</td>\n",
       "      <td>0</td>\n",
       "      <td>0</td>\n",
       "      <td>0</td>\n",
       "      <td>0</td>\n",
       "      <td>0</td>\n",
       "      <td>0</td>\n",
       "      <td>0</td>\n",
       "      <td>0</td>\n",
       "      <td>0</td>\n",
       "      <td>0</td>\n",
       "    </tr>\n",
       "  </tbody>\n",
       "</table>\n",
       "<p>5 rows × 199 columns</p>\n",
       "</div>"
      ],
      "text/plain": [
       "  Country_Region  Population    Weight        Date  TargetValue  Med. Age  \\\n",
       "0    Afghanistan    27657145  0.058359  2020-01-23          0.0      18.0   \n",
       "1    Afghanistan    27657145  0.058359  2020-01-24          0.0      18.0   \n",
       "2    Afghanistan    27657145  0.058359  2020-01-25          0.0      18.0   \n",
       "3    Afghanistan    27657145  0.058359  2020-01-26          0.0      18.0   \n",
       "4    Afghanistan    27657145  0.058359  2020-01-27          0.0      18.0   \n",
       "\n",
       "   Density (P/Km²)  Urban Pop %  Week  Day  ...  country_United States  \\\n",
       "0               60         25.0     4   23  ...                      0   \n",
       "1               60         25.0     4   24  ...                      0   \n",
       "2               60         25.0     4   25  ...                      0   \n",
       "3               60         25.0     4   26  ...                      0   \n",
       "4               60         25.0     5   27  ...                      0   \n",
       "\n",
       "  country_Uruguay  country_Uzbekistan  country_Venezuela  country_Vietnam  \\\n",
       "0               0                   0                  0                0   \n",
       "1               0                   0                  0                0   \n",
       "2               0                   0                  0                0   \n",
       "3               0                   0                  0                0   \n",
       "4               0                   0                  0                0   \n",
       "\n",
       "   country_West Bank and Gaza  country_Western Sahara  country_Yemen  \\\n",
       "0                           0                       0              0   \n",
       "1                           0                       0              0   \n",
       "2                           0                       0              0   \n",
       "3                           0                       0              0   \n",
       "4                           0                       0              0   \n",
       "\n",
       "   country_Zambia  country_Zimbabwe  \n",
       "0               0                 0  \n",
       "1               0                 0  \n",
       "2               0                 0  \n",
       "3               0                 0  \n",
       "4               0                 0  \n",
       "\n",
       "[5 rows x 199 columns]"
      ]
     },
     "execution_count": 5,
     "metadata": {},
     "output_type": "execute_result"
    }
   ],
   "source": [
    "cc_data.head()"
   ]
  },
  {
   "cell_type": "code",
   "execution_count": 6,
   "metadata": {},
   "outputs": [],
   "source": [
    "cc_data.drop(['Country_Region', 'first_infection'],axis=1, inplace=True)"
   ]
  },
  {
   "cell_type": "code",
   "execution_count": 7,
   "metadata": {},
   "outputs": [],
   "source": [
    "feature_cols = list(cc_data)\n",
    "feature_cols.remove('TargetValue')\n",
    "feature_cols.remove('Date')"
   ]
  },
  {
   "cell_type": "code",
   "execution_count": 8,
   "metadata": {},
   "outputs": [],
   "source": [
    "mask_cc_test = (cc_data['Date'] >= '2020-05-20')\n",
    "mask_cc_train = (cc_data['Date'] < '2020-05-20')"
   ]
  },
  {
   "cell_type": "code",
   "execution_count": 9,
   "metadata": {},
   "outputs": [],
   "source": [
    "test_cc_df = cc_data.loc[mask_cc_test]\n",
    "train_cc_df = cc_data.loc[mask_cc_train]"
   ]
  },
  {
   "cell_type": "code",
   "execution_count": 10,
   "metadata": {},
   "outputs": [],
   "source": [
    "y_train_cc = train_cc_df['TargetValue']\n",
    "x_train_cc = train_cc_df[feature_cols] \n",
    "\n",
    "y_test_cc = test_cc_df['TargetValue']\n",
    "x_test_cc = test_cc_df[feature_cols]"
   ]
  },
  {
   "cell_type": "code",
   "execution_count": 11,
   "metadata": {},
   "outputs": [],
   "source": [
    "from sklearn.experimental import enable_hist_gradient_boosting"
   ]
  },
  {
   "cell_type": "code",
   "execution_count": 12,
   "metadata": {},
   "outputs": [],
   "source": [
    "from sklearn.ensemble import HistGradientBoostingRegressor"
   ]
  },
  {
   "cell_type": "code",
   "execution_count": 13,
   "metadata": {},
   "outputs": [],
   "source": [
    "est = HistGradientBoostingRegressor()"
   ]
  },
  {
   "cell_type": "markdown",
   "metadata": {},
   "source": [
    "### Searching for optimal solution"
   ]
  },
  {
   "cell_type": "code",
   "execution_count": 16,
   "metadata": {},
   "outputs": [],
   "source": [
    "from sklearn.model_selection import RandomizedSearchCV\n",
    "\n",
    "params_opt = { 'learning_rate': list(np.logspace(np.log10(0.08), np.log10(0.2), base = 10, num = 600)),\n",
    "             'max_depth': [3, 4, 5],\n",
    "             'min_samples_leaf':list(range(1,4))}\n",
    "rand_search = RandomizedSearchCV(est, params_opt, scoring= 'r2', n_iter = 100)\n",
    "search = rand_search.fit(x_train_cc, y_train_cc)"
   ]
  },
  {
   "cell_type": "code",
   "execution_count": 17,
   "metadata": {},
   "outputs": [
    {
     "name": "stdout",
     "output_type": "stream",
     "text": [
      "0.819739546394733\n"
     ]
    }
   ],
   "source": [
    "best_params= search.best_params_\n",
    "optHGBR = HistGradientBoostingRegressor(learning_rate= best_params['learning_rate'], min_samples_leaf=best_params['min_samples_leaf'],\n",
    "                      max_depth=best_params['max_depth'])\n",
    "optHGBR.fit(x_train_cc, y_train_cc)\n",
    "print(optHGBR.score(x_test_cc, y_test_cc))"
   ]
  },
  {
   "cell_type": "code",
   "execution_count": null,
   "metadata": {},
   "outputs": [],
   "source": []
  }
 ],
 "metadata": {
  "kernelspec": {
   "display_name": "Python 3",
   "language": "python",
   "name": "python3"
  },
  "language_info": {
   "codemirror_mode": {
    "name": "ipython",
    "version": 3
   },
   "file_extension": ".py",
   "mimetype": "text/x-python",
   "name": "python",
   "nbconvert_exporter": "python",
   "pygments_lexer": "ipython3",
   "version": "3.8.2"
  }
 },
 "nbformat": 4,
 "nbformat_minor": 4
}
